{
 "cells": [
  {
   "cell_type": "code",
   "execution_count": null,
   "id": "f0c28239",
   "metadata": {},
   "outputs": [],
   "source": [
    "# !pip install numpy==1.20.3\n",
    "# !pip install pyheif==0.5.1\n",
    "# !pip install requests==2.26.0\n",
    "# !pip install clip-by-openai\n",
    "# !pip install matplotlib==3.4.2\n",
    "# !pip install torch==1.7.1\n",
    "# !pip install whatimage==0.0.3\n",
    "# !pip install streamlit==0.89.0\n",
    "# !pip install Pillow==8.3.2\n",
    "# !pip install opencv-python==4.5.3.56\n",
    "# !pip install pyaml\n",
    "# !pip install jupyter\n"
   ]
  },
  {
   "cell_type": "code",
   "execution_count": 3,
   "id": "8a67ce0f",
   "metadata": {},
   "outputs": [],
   "source": [
    "import cv2\n",
    "from glob import glob\n",
    "from pathlib import Path\n",
    "import smtplib\n",
    "\n",
    "from model import Model\n",
    "from utils import plot\n",
    "from email.mime.multipart import MIMEMultipart\n",
    "from email.mime.text import MIMEText"
   ]
  },
  {
   "cell_type": "code",
   "execution_count": 2,
   "id": "ec0cf533",
   "metadata": {},
   "outputs": [],
   "source": [
    "model = Model()"
   ]
  },
  {
   "cell_type": "code",
   "execution_count": null,
   "id": "7b2105b7",
   "metadata": {},
   "outputs": [],
   "source": [
    "image_pathes = glob('./data/*.jpg')\n",
    "image_pathes += glob('./data/*.png')\n",
    "image_pathes[:2]"
   ]
  },
  {
   "cell_type": "code",
   "execution_count": 2,
   "id": "d92ca6e9",
   "metadata": {},
   "outputs": [
    {
     "ename": "NameError",
     "evalue": "name 'Path' is not defined",
     "output_type": "error",
     "traceback": [
      "\u001b[1;31m---------------------------------------------------------------------------\u001b[0m",
      "\u001b[1;31mNameError\u001b[0m                                 Traceback (most recent call last)",
      "Cell \u001b[1;32mIn[2], line 1\u001b[0m\n\u001b[1;32m----> 1\u001b[0m save_folder_path \u001b[38;5;241m=\u001b[39m \u001b[43mPath\u001b[49m(\u001b[38;5;124m'\u001b[39m\u001b[38;5;124mresults\u001b[39m\u001b[38;5;124m'\u001b[39m)\n",
      "\u001b[1;31mNameError\u001b[0m: name 'Path' is not defined"
     ]
    }
   ],
   "source": [
    "save_folder_path = Path('results')"
   ]
  },
  {
   "cell_type": "code",
   "execution_count": null,
   "id": "2f96299b",
   "metadata": {
    "scrolled": false
   },
   "outputs": [],
   "source": [
    "for i, image_path in enumerate(image_pathes):\n",
    "    image = cv2.imread(image_path)\n",
    "    image = cv2.cvtColor(image, cv2.COLOR_BGR2RGB)\n",
    "    label = model.predict(image)['label']\n",
    "    plot(image=image, title=label, \n",
    "         save_path=save_folder_path / f'{i}.jpg')"
   ]
  },
  {
   "cell_type": "markdown",
   "id": "6fd10a07",
   "metadata": {},
   "source": [
    "# Read video \n",
    "### and save predictions for each frame as another video"
   ]
  },
  {
   "cell_type": "code",
   "execution_count": 3,
   "id": "3ced4a07",
   "metadata": {},
   "outputs": [],
   "source": [
    "def process_video(input_video_path: str, output_path: str):\n",
    "    cap = cv2.VideoCapture(video_path)\n",
    "    width = int(cap.get(cv2.CAP_PROP_FRAME_WIDTH) + 0.5)\n",
    "    height = int(cap.get(cv2.CAP_PROP_FRAME_HEIGHT) + 0.5)\n",
    "    size = (width, height)\n",
    "    fourcc = cv2.VideoWriter_fourcc(*'XVID')\n",
    "    fps = int(cap.get(cv2.CAP_PROP_FPS) + 0.5)\n",
    "    print('FPS', fps)\n",
    "    success, frame = cap.read()\n",
    "    \n",
    "    out = cv2.VideoWriter(save_video_path, fourcc, fps, size)\n",
    "    success = True\n",
    "\n",
    "\n",
    "    while success and cap.isOpened():\n",
    "\n",
    "        frame = cv2.cvtColor(frame, cv2.COLOR_BGR2RGB)\n",
    "        prediction = model.predict(frame)\n",
    "        label = prediction['label']\n",
    "        conf = prediction['confidence']\n",
    "        frame = cv2.cvtColor(frame, cv2.COLOR_RGB2BGR)\n",
    "        frame = cv2.putText(frame, label.title(), \n",
    "                            (0, 100), \n",
    "                            cv2.FONT_HERSHEY_SIMPLEX, 1, \n",
    "                            (0, 0, 255), 2)\n",
    "\n",
    "        cv2.imshow('Recording...', frame)\n",
    "        if cv2.waitKey(1) & 0xFF == ord('q'):\n",
    "            break\n",
    "        out.write(frame)\n",
    "        success, frame = cap.read()\n",
    "\n",
    "    cap.release()\n",
    "    out.release()\n",
    "    cv2.destroyAllWindows()"
   ]
  },
  {
   "cell_type": "code",
   "execution_count": 1,
   "id": "c3dfbe55",
   "metadata": {},
   "outputs": [
    {
     "ename": "NameError",
     "evalue": "name 'save_folder_path' is not defined",
     "output_type": "error",
     "traceback": [
      "\u001b[1;31m---------------------------------------------------------------------------\u001b[0m",
      "\u001b[1;31mNameError\u001b[0m                                 Traceback (most recent call last)",
      "Cell \u001b[1;32mIn[1], line 2\u001b[0m\n\u001b[0;32m      1\u001b[0m video_path \u001b[38;5;241m=\u001b[39m \u001b[38;5;124m'\u001b[39m\u001b[38;5;124m./data/oki2.mp4\u001b[39m\u001b[38;5;124m'\u001b[39m\n\u001b[1;32m----> 2\u001b[0m save_video_path \u001b[38;5;241m=\u001b[39m \u001b[38;5;28mstr\u001b[39m(\u001b[43msave_folder_path\u001b[49m \u001b[38;5;241m/\u001b[39m \u001b[38;5;124m'\u001b[39m\u001b[38;5;124mk.avi\u001b[39m\u001b[38;5;124m'\u001b[39m)\n\u001b[0;32m      4\u001b[0m process_video(video_path, save_video_path) \n",
      "\u001b[1;31mNameError\u001b[0m: name 'save_folder_path' is not defined"
     ]
    }
   ],
   "source": [
    "video_path = './data/oki2.mp4'\n",
    "save_video_path = str(save_folder_path / 'k.avi')\n",
    "\n",
    "process_video(video_path, save_video_path) "
   ]
  },
  {
   "cell_type": "code",
   "execution_count": null,
   "id": "53a2afdb",
   "metadata": {},
   "outputs": [],
   "source": [
    "video_path = './data/office_fight.mp4'\n",
    "save_video_path = str(save_folder_path / 'result_fight.avi')\n",
    "\n",
    "process_video(video_path, save_video_path)"
   ]
  },
  {
   "cell_type": "code",
   "execution_count": null,
   "id": "cd533ee0",
   "metadata": {},
   "outputs": [],
   "source": [
    "video_path = './data/test1.mp4'\n",
    "save_video_path = str(save_folder_path / 'test1.avi')\n",
    "\n",
    "process_video(video_path, save_video_path)"
   ]
  },
  {
   "cell_type": "code",
   "execution_count": null,
   "id": "87f58113",
   "metadata": {},
   "outputs": [
    {
     "ename": "",
     "evalue": "",
     "output_type": "error",
     "traceback": [
      "\u001b[1;31mThe Kernel crashed while executing code in the current cell or a previous cell. \n",
      "\u001b[1;31mPlease review the code in the cell(s) to identify a possible cause of the failure. \n",
      "\u001b[1;31mClick <a href='https://aka.ms/vscodeJupyterKernelCrash'>here</a> for more info. \n",
      "\u001b[1;31mView Jupyter <a href='command:jupyter.viewOutput'>log</a> for further details."
     ]
    }
   ],
   "source": [
    "import cv2\n",
    "from model import Model\n",
    "import smtplib\n",
    "from email.mime.multipart import MIMEMultipart\n",
    "from email.mime.text import MIMEText\n",
    "\n",
    "model = Model()\n",
    "\n",
    "def send_email(subject, body):\n",
    "    sender_email = 'ilyassbennane123@gmail.com'  # Sender's email address\n",
    "    receiver_email = 'cherkaniaymen4@gmail.com'  # Recipient's email address\n",
    "    password = 'zivt mvam qory gowq'  # Sender's email password\n",
    "    # Create message container\n",
    "    msg = MIMEMultipart()\n",
    "    msg['From'] = sender_email\n",
    "    msg['To'] = receiver_email\n",
    "    msg['Subject'] = subject\n",
    "\n",
    "    # Attach body to the email\n",
    "    msg.attach(MIMEText(body, 'plain'))\n",
    "\n",
    "    # Connect to SMTP server and send email\n",
    "    try:\n",
    "        server = smtplib.SMTP('smtp.gmail.com', 587)\n",
    "        server.starttls()\n",
    "        server.login(sender_email, password)\n",
    "        text = msg.as_string()\n",
    "        server.sendmail(sender_email, receiver_email, text)\n",
    "        print(\"Email sent successfully\")\n",
    "    except Exception as e:\n",
    "        print(\"Error sending email:\", str(e))\n",
    "    finally:\n",
    "        if 'server' in locals():\n",
    "            server.quit()\n",
    "\n",
    "def process_realtime():\n",
    "    # Open the default camera\n",
    "    cap = cv2.VideoCapture(0)  # Use 0 for the default camera, or change it to another index if you have multiple cameras\n",
    "\n",
    "    while cap.isOpened():\n",
    "        # Capture frame-by-frame\n",
    "        ret, frame = cap.read()\n",
    "        if not ret:\n",
    "            print(\"Error reading frame\")\n",
    "            break\n",
    "\n",
    "        # Convert frame to RGB\n",
    "        frame_rgb = cv2.cvtColor(frame, cv2.COLOR_BGR2RGB)\n",
    "\n",
    "        # Predict violence\n",
    "        prediction = model.predict(frame_rgb)\n",
    "        label = prediction['label']\n",
    "        confidence = prediction['confidence']\n",
    "\n",
    "        # Display the result\n",
    "        frame = cv2.putText(frame, f\"{label}: {confidence:.2f}\", (10, 30), cv2.FONT_HERSHEY_SIMPLEX, 1, (0, 0, 255), 2)\n",
    "\n",
    "        # If violence is detected, send an email\n",
    "        if label == 'violence in office':\n",
    "            send_email(\"Violence Detected\", \"Violence has been detected in the video stream.\")\n",
    "\n",
    "        # Display the resulting frame\n",
    "        cv2.imshow('Real-time Violence Detection', frame)\n",
    "\n",
    "        # Press 'q' to exit\n",
    "        if cv2.waitKey(1) & 0xFF == ord('q'):\n",
    "            break\n",
    "\n",
    "    # Release everything when done\n",
    "    cap.release()\n",
    "    cv2.destroyAllWindows()\n"
   ]
  },
  {
   "cell_type": "code",
   "execution_count": null,
   "id": "733d5b47",
   "metadata": {},
   "outputs": [],
   "source": [
    "process_realtime()\n"
   ]
  },
  {
   "cell_type": "code",
   "execution_count": null,
   "id": "dabe9eb1",
   "metadata": {},
   "outputs": [],
   "source": [
    "video_path = './data/test7.mp4'\n",
    "save_video_path = str(save_folder_path / 'test7.avi')\n",
    "\n",
    "process_video(video_path, save_video_path)"
   ]
  }
 ],
 "metadata": {
  "kernelspec": {
   "display_name": "Python 3 (ipykernel)",
   "language": "python",
   "name": "python3"
  },
  "language_info": {
   "codemirror_mode": {
    "name": "ipython",
    "version": 3
   },
   "file_extension": ".py",
   "mimetype": "text/x-python",
   "name": "python",
   "nbconvert_exporter": "python",
   "pygments_lexer": "ipython3",
   "version": "3.10.7"
  }
 },
 "nbformat": 4,
 "nbformat_minor": 5
}
